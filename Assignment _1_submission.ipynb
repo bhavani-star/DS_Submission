{
 "cells": [
  {
   "cell_type": "code",
   "execution_count": null,
   "id": "0d1c3a6c",
   "metadata": {},
   "outputs": [],
   "source": [
    " \"\"\"1. In the below elements which of them are values or an expression? eg:- values can be\n",
    "integer or string and expressions will be mathematical operators. \"\"\"\n",
    "* #Operator\n",
    "hello# string\n",
    "-87.8 # float\n",
    "- # Minus operator\n",
    "/ # Divide operator\n",
    "+ # Pluse operator \n",
    "6 # int"
   ]
  },
  {
   "cell_type": "code",
   "execution_count": 2,
   "id": "fc079704",
   "metadata": {},
   "outputs": [
    {
     "data": {
      "text/plain": [
       "int"
      ]
     },
     "execution_count": 2,
     "metadata": {},
     "output_type": "execute_result"
    }
   ],
   "source": [
    "type(6)"
   ]
  },
  {
   "cell_type": "code",
   "execution_count": 3,
   "id": "ce9dc37d",
   "metadata": {},
   "outputs": [
    {
     "ename": "IndentationError",
     "evalue": "unexpected indent (<ipython-input-3-680952342dee>, line 2)",
     "output_type": "error",
     "traceback": [
      "\u001b[1;36m  File \u001b[1;32m\"<ipython-input-3-680952342dee>\"\u001b[1;36m, line \u001b[1;32m2\u001b[0m\n\u001b[1;33m    Variable:  Variable is the reference to value\u001b[0m\n\u001b[1;37m    ^\u001b[0m\n\u001b[1;31mIndentationError\u001b[0m\u001b[1;31m:\u001b[0m unexpected indent\n"
     ]
    }
   ],
   "source": [
    " # 2. What is the difference between string and variable?\n",
    "   Variable:  Variable is the reference to value. If we save value in variable we can use any where in the program.\n",
    "    \n",
    " String:   String can be hold with single quotes or double quotes. String is \"immutable\" due to cannot be changed after created\n",
    "    with string we can perform string slicing. In pythong we have somany string methods like format ,format_map,find,count .\n"
   ]
  },
  {
   "cell_type": "code",
   "execution_count": 5,
   "id": "d438da3d",
   "metadata": {},
   "outputs": [
    {
     "ename": "SyntaxError",
     "evalue": "invalid syntax (<ipython-input-5-9fe63cf3edee>, line 2)",
     "output_type": "error",
     "traceback": [
      "\u001b[1;36m  File \u001b[1;32m\"<ipython-input-5-9fe63cf3edee>\"\u001b[1;36m, line \u001b[1;32m2\u001b[0m\n\u001b[1;33m    List: List collection of order elements. Can access elements with index.We can access list both positive and negetaive indenx\u001b[0m\n\u001b[1;37m               ^\u001b[0m\n\u001b[1;31mSyntaxError\u001b[0m\u001b[1;31m:\u001b[0m invalid syntax\n"
     ]
    }
   ],
   "source": [
    "#3. Describe three different data types.\n",
    "Numeric: To hold numeric data like interger,float,complex \n",
    "    integers: holds +ve and -ve whole numbers. ex: type(6)\n",
    "    Float: To hold floating / decimal numbsers. ex: type(45.6)\n",
    "    Complex: to hold real + imaginari numbers. ex: type(5+4j)\n",
    "List: List collection of order elements. List is mutable. Can access elements with index.We can access list both positive and negetaive indenx\n",
    "    with Negative indexing we can acess list items from backward.\n",
    "    \n",
    "    Example : List[1,2,3,4,\"durga\",23.45.67,[1,2,3,4]]\n",
    "    \n",
    "List fuctions:append,clear,copy,count,extend,index,insert,pop,remove,sort\n",
    "\n",
    "Tuple: Order collectoin of data. Tuple is immutable due to cant be modified after created.\n",
    "    Example: tuple(1,2,3,4,5)\n",
    "Tuple Function: only index and count"
   ]
  },
  {
   "cell_type": "code",
   "execution_count": 7,
   "id": "646f0c17",
   "metadata": {},
   "outputs": [],
   "source": [
    "\"\"\"4. What is an expression made up of? What do all expressions do? \"\"\"\n",
    "Expression is combination of values and operators. It will evaluated as per precedence \n",
    "Example :\n",
    "    x= 4+1.2\n",
    "    x+y\n",
    "    a = 10\n",
    "    a==10"
   ]
  },
  {
   "cell_type": "code",
   "execution_count": 8,
   "id": "8bfbf91d",
   "metadata": {},
   "outputs": [
    {
     "ename": "SyntaxError",
     "evalue": "invalid syntax (<ipython-input-8-d15c9c710bd1>, line 3)",
     "output_type": "error",
     "traceback": [
      "\u001b[1;36m  File \u001b[1;32m\"<ipython-input-8-d15c9c710bd1>\"\u001b[1;36m, line \u001b[1;32m3\u001b[0m\n\u001b[1;33m    Expression is alwasy evaluates the value  like assign the values and perform some methetical calculation and comparision\u001b[0m\n\u001b[1;37m                         ^\u001b[0m\n\u001b[1;31mSyntaxError\u001b[0m\u001b[1;31m:\u001b[0m invalid syntax\n"
     ]
    }
   ],
   "source": [
    "\"\"\"This assignment statements, like spam = 10. What is the difference between an expression and a statement?\"\"\"\n",
    "\n",
    "Expression is alwasy evaluates the value  like assign the values and perform some methetical calculation and comparision\n",
    "Statement is not only the assingment line of code which can be executable."
   ]
  },
  {
   "cell_type": "code",
   "execution_count": 9,
   "id": "4ea9eb17",
   "metadata": {},
   "outputs": [
    {
     "name": "stdout",
     "output_type": "stream",
     "text": [
      "22\n"
     ]
    }
   ],
   "source": [
    "\"\"\"After running the following code, what does the variable bacon contain?\n",
    "bacon = 22\n",
    "bacon + 1\n",
    "\"\"\"\n",
    "#Ans: Its 22 in 2nd statement we havent assinged evaulated value back to bacon\n",
    "bacon = 22\n",
    "bacon + 1 \n",
    "print(bacon)\n"
   ]
  },
  {
   "cell_type": "code",
   "execution_count": 12,
   "id": "c75000f4",
   "metadata": {},
   "outputs": [
    {
     "data": {
      "text/plain": [
       "'spamspamspam'"
      ]
     },
     "execution_count": 12,
     "metadata": {},
     "output_type": "execute_result"
    }
   ],
   "source": [
    "\"\"\"7. What should the values of the following two terms be? \"\"\"\n",
    "'spam' + 'spamspam'\n",
    "# it concatenate  both values "
   ]
  },
  {
   "cell_type": "code",
   "execution_count": 14,
   "id": "101fb5ba",
   "metadata": {},
   "outputs": [
    {
     "data": {
      "text/plain": [
       "'spamspamspam'"
      ]
     },
     "execution_count": 14,
     "metadata": {},
     "output_type": "execute_result"
    }
   ],
   "source": [
    "'spam' * 3\n",
    "#Its copys the same value specified no.of times."
   ]
  },
  {
   "cell_type": "code",
   "execution_count": 17,
   "id": "752405d3",
   "metadata": {},
   "outputs": [
    {
     "data": {
      "text/plain": [
       "'8. Why is eggs a valid variable name while 100 is invalid?'"
      ]
     },
     "execution_count": 17,
     "metadata": {},
     "output_type": "execute_result"
    }
   ],
   "source": [
    "\"\"\"8. Why is eggs a valid variable name while 100 is invalid?\"\"\"\n",
    " #Ans:  Varibale name must start with letter or underscore.  variable name cannot start with number\n"
   ]
  },
  {
   "cell_type": "code",
   "execution_count": 22,
   "id": "39282c15",
   "metadata": {},
   "outputs": [
    {
     "name": "stdout",
     "output_type": "stream",
     "text": [
      "0\n"
     ]
    }
   ],
   "source": [
    "\"\"\"9. What three functions can be used to get the integer, floating-point number, or string version of a value?\"\"\"\n",
    "# int(), float(), str()"
   ]
  },
  {
   "cell_type": "code",
   "execution_count": 19,
   "id": "3e21bee8",
   "metadata": {},
   "outputs": [
    {
     "data": {
      "text/plain": [
       "0.0"
      ]
     },
     "execution_count": 19,
     "metadata": {},
     "output_type": "execute_result"
    }
   ],
   "source": [
    "float()"
   ]
  },
  {
   "cell_type": "code",
   "execution_count": 20,
   "id": "796fb8eb",
   "metadata": {},
   "outputs": [
    {
     "data": {
      "text/plain": [
       "''"
      ]
     },
     "execution_count": 20,
     "metadata": {},
     "output_type": "execute_result"
    }
   ],
   "source": [
    "str()"
   ]
  },
  {
   "cell_type": "code",
   "execution_count": 26,
   "id": "f55dd6b5",
   "metadata": {},
   "outputs": [
    {
     "data": {
      "text/plain": [
       "'I have eaten 99 burritos.'"
      ]
     },
     "execution_count": 26,
     "metadata": {},
     "output_type": "execute_result"
    }
   ],
   "source": [
    "\"\"\" 10. Why does this expression cause an error? How can you fix it?\n",
    "'I have eaten ' + 99 + ' burritos.'\"\"\"\n",
    "#Ans: In this Plus is representation of concatination of string , integer value we cant concatinate to string.\n",
    "#So needs conversion to string \n",
    "\n",
    "'I have eaten ' + str(99)+ ' burritos.'\n"
   ]
  },
  {
   "cell_type": "code",
   "execution_count": null,
   "id": "a2604061",
   "metadata": {},
   "outputs": [],
   "source": []
  }
 ],
 "metadata": {
  "kernelspec": {
   "display_name": "Python 3",
   "language": "python",
   "name": "python3"
  },
  "language_info": {
   "codemirror_mode": {
    "name": "ipython",
    "version": 3
   },
   "file_extension": ".py",
   "mimetype": "text/x-python",
   "name": "python",
   "nbconvert_exporter": "python",
   "pygments_lexer": "ipython3",
   "version": "3.8.8"
  }
 },
 "nbformat": 4,
 "nbformat_minor": 5
}
