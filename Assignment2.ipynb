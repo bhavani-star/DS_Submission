{
 "cells": [
  {
   "cell_type": "markdown",
   "metadata": {},
   "source": [
    "# \"\"\"1.1 )Write a Python Program to implement your own myreduce() function which works exactly like\n",
    "Python's built-in function reduce()\"\"\"\n"
   ]
  },
  {
   "cell_type": "code",
   "execution_count": 2,
   "metadata": {},
   "outputs": [],
   "source": [
    "\n",
    "def multi(a,b):\n",
    "    return a*b\n",
    "\n",
    "\n",
    "def myreduce(func,l,z=0):\n",
    "    r = len(l)\n",
    "    if z==0 :\n",
    "        s = 1\n",
    "        a= l[0]\n",
    "    else :\n",
    "        s= 0\n",
    "        a= z\n",
    "    for i in range(s,r):\n",
    "        b = l[i]\n",
    "        a=func(a,b)\n",
    "    print(a)"
   ]
  },
  {
   "cell_type": "code",
   "execution_count": 4,
   "metadata": {},
   "outputs": [
    {
     "name": "stdout",
     "output_type": "stream",
     "text": [
      "720\n"
     ]
    }
   ],
   "source": [
    "l=[1,2,3,4,5,6] \n",
    "myreduce(multi,l) "
   ]
  },
  {
   "cell_type": "code",
   "execution_count": 5,
   "metadata": {},
   "outputs": [
    {
     "name": "stdout",
     "output_type": "stream",
     "text": [
      "1440\n"
     ]
    }
   ],
   "source": [
    "myreduce(multi,l,2)"
   ]
  },
  {
   "cell_type": "code",
   "execution_count": 9,
   "metadata": {},
   "outputs": [
    {
     "name": "stdout",
     "output_type": "stream",
     "text": [
      "2160\n"
     ]
    }
   ],
   "source": [
    "myreduce(lambda x,y : x*y,l,3)"
   ]
  },
  {
   "cell_type": "markdown",
   "metadata": {},
   "source": [
    "# \"\"\"1.2Write a Python program to implement your own myfilter() function which works exactly like\n",
    "Python's built-in function filter()\n",
    "\"\"\""
   ]
  },
  {
   "cell_type": "code",
   "execution_count": 10,
   "metadata": {},
   "outputs": [],
   "source": [
    "l=['A','B','C','D','E','F','G']\n",
    "l1 = [78,45,767,3123,45,-1]\n",
    "\n",
    "#Is_vowel number\n",
    "def is_vowel(a):\n",
    "    s='AEIOU'\n",
    "    for i in range(len(s)):\n",
    "        if a == s[i] or a== s[i].lower():\n",
    "            return True\n",
    "            break\n",
    "    else :\n",
    "        return False\n",
    "  #ScoreBorad functions return True if score more than 75 else False  \n",
    "def score_board75(a):\n",
    "    if a>=75:\n",
    "        return True\n",
    "    else :\n",
    "        return False\n",
    "   \n",
    "def myfilter(func,l):\n",
    "    m=list()\n",
    "    for i in range(len(l)):\n",
    "        if func(l[i])== True:\n",
    "            m.append(l[i])        \n",
    "    return m"
   ]
  },
  {
   "cell_type": "code",
   "execution_count": 13,
   "metadata": {},
   "outputs": [
    {
     "data": {
      "text/plain": [
       "['A', 'E']"
      ]
     },
     "execution_count": 13,
     "metadata": {},
     "output_type": "execute_result"
    }
   ],
   "source": [
    "# EXECUTION WITH Ovel function\n",
    "myfilter(is_vowel,l)\n"
   ]
  },
  {
   "cell_type": "code",
   "execution_count": 14,
   "metadata": {},
   "outputs": [
    {
     "data": {
      "text/plain": [
       "[78, 767, 3123]"
      ]
     },
     "execution_count": 14,
     "metadata": {},
     "output_type": "execute_result"
    }
   ],
   "source": [
    "#Execution with score_board75 function\n",
    "myfilter(score_board75,l1)"
   ]
  },
  {
   "cell_type": "markdown",
   "metadata": {},
   "source": [
    "# List Comprehentions"
   ]
  },
  {
   "cell_type": "code",
   "execution_count": 20,
   "metadata": {},
   "outputs": [
    {
     "data": {
      "text/plain": [
       "['A', 'C', 'A', 'D', 'G', 'I']"
      ]
     },
     "execution_count": 20,
     "metadata": {},
     "output_type": "execute_result"
    }
   ],
   "source": [
    "\"\"\"2.\n",
    "Implement List comprehensions to produce the following lists.\n",
    "Write List comprehensions to produce the following Lists\n",
    "['A', 'C', 'A', 'D', 'G', 'I', ’L’, ‘ D’]\n",
    "\n",
    "str = 'ACADGI'\n",
    "li = ['x','y','z']\n",
    "m1=[x for x in str]\n",
    "m1"
   ]
  },
  {
   "cell_type": "code",
   "execution_count": 25,
   "metadata": {},
   "outputs": [
    {
     "data": {
      "text/plain": [
       "['x', 'y', 'z']"
      ]
     },
     "execution_count": 25,
     "metadata": {},
     "output_type": "execute_result"
    }
   ],
   "source": [
    "\n",
    "m2=[x for x in l]\n",
    "m2"
   ]
  },
  {
   "cell_type": "code",
   "execution_count": 26,
   "metadata": {},
   "outputs": [
    {
     "data": {
      "text/plain": [
       "['X', 'Y', 'Z', 'XX', 'YY', 'ZZ', 'XXX', 'YYY', 'ZZZ', 'XXXX', 'YYYY', 'ZZZZ']"
      ]
     },
     "execution_count": 26,
     "metadata": {},
     "output_type": "execute_result"
    }
   ],
   "source": [
    "\"\"\"['X', 'Y', 'Z', 'XX', 'YY', 'ZZ', 'XXX', 'YYY', 'ZZZ', 'XXXX', 'YYYY', 'ZZZZ']\"\"\"\n",
    "l = ['X','Y','Z']\n",
    "m=[]\n",
    "#[y for y in x for x in non_flat]\n",
    "m = [l[i]*x for x in range(1,5) for i in range(len(l))]\n",
    "m "
   ]
  },
  {
   "cell_type": "code",
   "execution_count": 27,
   "metadata": {},
   "outputs": [
    {
     "data": {
      "text/plain": [
       "['X', 'XX', 'XXX', 'XXXX', 'Y', 'YY', 'YYY', 'YYYY', 'Z', 'ZZ', 'ZZZ', 'ZZZZ']"
      ]
     },
     "execution_count": 27,
     "metadata": {},
     "output_type": "execute_result"
    }
   ],
   "source": [
    "\"\"\"['X', 'XX', 'XXX', 'XXXX', 'Y', 'YY', 'YYY', 'YYYY', 'Z', 'ZZ', 'ZZZ', 'ZZZZ']\"\"\"\n",
    "l = ['X','Y','Z']\n",
    "m=[]\n",
    "n=[]\n",
    "#[y for y in x for x in non_flat]\n",
    "m = [l[x]*y for x in range(len(l)) for y in range(1,5)]\n",
    "m"
   ]
  },
  {
   "cell_type": "code",
   "execution_count": 29,
   "metadata": {},
   "outputs": [
    {
     "data": {
      "text/plain": [
       "[(1, 1), (2, 1), (3, 1), (1, 2), (2, 2), (3, 2), (1, 3), (2, 3), (3, 3)]"
      ]
     },
     "execution_count": 29,
     "metadata": {},
     "output_type": "execute_result"
    }
   ],
   "source": [
    "\"\"\"[(1, 1), (2, 1), (3, 1), (1, 2), (2, 2), (3, 2), (1, 3), (2, 3), (3, 3)]\"\"\"\n",
    "[(i,j)for j in range(1,4) for i in range (1,4)]"
   ]
  },
  {
   "cell_type": "code",
   "execution_count": 30,
   "metadata": {},
   "outputs": [
    {
     "data": {
      "text/plain": [
       "[[2], [3], [4], [3], [4], [5], [4], [5], [6]]"
      ]
     },
     "execution_count": 30,
     "metadata": {},
     "output_type": "execute_result"
    }
   ],
   "source": [
    "'''[[2], [3], [4], [3], [4], [5], [4], [5], [6]]'''\n",
    "[[i+j] for j  in range (2,5) for i in range (3)]"
   ]
  },
  {
   "cell_type": "code",
   "execution_count": 31,
   "metadata": {},
   "outputs": [
    {
     "data": {
      "text/plain": [
       "[[2, 3, 4, 5], [3, 4, 5, 6], [4, 5, 6, 7], [5, 6, 7, 8]]"
      ]
     },
     "execution_count": 31,
     "metadata": {},
     "output_type": "execute_result"
    }
   ],
   "source": [
    " '''[[2, 3, 4, 5], [3, 4, 5, 6], [4, 5, 6, 7], [5, 6, 7, 8]]'''\n",
    "[[i+1,i+2,i+3,i+4]  for i in range (1,5)] "
   ]
  },
  {
   "cell_type": "markdown",
   "metadata": {},
   "source": [
    "# 3. Implement a function longestWord() that takes a list of words and returns the longest one"
   ]
  },
  {
   "cell_type": "code",
   "execution_count": 32,
   "metadata": {},
   "outputs": [],
   "source": [
    "\n",
    "def loggestword(str):\n",
    "    d = 0\n",
    "    c= 0\n",
    "    l = list(str.split())\n",
    "    for i in range(len(l)):\n",
    "        if len(l[i])> c:\n",
    "            d= i\n",
    "            c = len(l[i])\n",
    "    return l[d]"
   ]
  },
  {
   "cell_type": "code",
   "execution_count": 33,
   "metadata": {},
   "outputs": [
    {
     "data": {
      "text/plain": [
       "'durgabhavani'"
      ]
     },
     "execution_count": 33,
     "metadata": {},
     "output_type": "execute_result"
    }
   ],
   "source": [
    "loggestword(\"my name is durgabhavani kadavakollu.\")"
   ]
  },
  {
   "cell_type": "markdown",
   "metadata": {},
   "source": [
    "# Task 2: 1.1: Write a Python Program(with class concepts) to find the area of the triangle using the below\n",
    "formula.\n"
   ]
  },
  {
   "cell_type": "code",
   "execution_count": 59,
   "metadata": {},
   "outputs": [],
   "source": [
    "#area = (s*(s-a)*(s-b)*(s-c)) ** 0.5\n",
    "# Function to take the length of the sides of triangle from user should be defined in the parent\n",
    "#class and function to calculate the area should be defined in subclass.\n",
    "class tri:\n",
    "    def __init__(self,a,b,c,s):\n",
    "        self.a = a\n",
    "        self.b =b\n",
    "        self.c = c\n",
    "        self.s = s\n",
    "        \n",
    "t = tri(5,2,3,4)\n",
    "\n",
    "class sub_tri(tri):\n",
    "    def __init__(self,tri, *args):\n",
    "        super(sub_tri,self).__init__(*args)\n",
    "        self.t = tri\n",
    "        \n",
    "    def tri_aria(self):\n",
    "        print(self.s*(self.s-self.a)*(self.s-self.b)*(self.s-self.c) ** 0.5)\n",
    "    def __str__(self):\n",
    "        return \"Area of Triangel is: %d\" %(self.s*(self.s-self.a)*(self.s-self.b)*(self.s-self.c) ** 0.5)\n",
    "        \n",
    "st = sub_tri(5,1,2,3,4)\n",
    "\n"
   ]
  },
  {
   "cell_type": "code",
   "execution_count": 61,
   "metadata": {},
   "outputs": [
    {
     "name": "stdout",
     "output_type": "stream",
     "text": [
      "Area of Triangel is: 24\n"
     ]
    }
   ],
   "source": [
    "print(st)"
   ]
  },
  {
   "cell_type": "markdown",
   "metadata": {},
   "source": [
    "# 2.1 Write a Python program using function concept that maps list of words into a list of integers\n",
    "representing the lengths of the corresponding words.\n"
   ]
  },
  {
   "cell_type": "code",
   "execution_count": 62,
   "metadata": {},
   "outputs": [],
   "source": [
    "def loggestword(l): \n",
    "    m = []\n",
    "    for i in range(len(l)): \n",
    "            m.append(len(l[i])) \n",
    "    return m\n"
   ]
  },
  {
   "cell_type": "code",
   "execution_count": 63,
   "metadata": {},
   "outputs": [
    {
     "data": {
      "text/plain": [
       "[5, 7, 11]"
      ]
     },
     "execution_count": 63,
     "metadata": {},
     "output_type": "execute_result"
    }
   ],
   "source": [
    "loggestword(['durga','bhavani','kadavakollu'])"
   ]
  },
  {
   "cell_type": "markdown",
   "metadata": {},
   "source": [
    "# Write a function filter_long_words() that takes a list of words and an integer n and returns the listof words that are longer than n."
   ]
  },
  {
   "cell_type": "code",
   "execution_count": 65,
   "metadata": {},
   "outputs": [],
   "source": [
    "def filter_long_words(str,n):\n",
    "    d = 0\n",
    "    m=[]\n",
    "    l = list(str.split())\n",
    "    for i in range(len(l)):\n",
    "        if len(l[i])> n:\n",
    "            d= i\n",
    "            m.append(l[i])\n",
    "    return m"
   ]
  },
  {
   "cell_type": "code",
   "execution_count": 70,
   "metadata": {},
   "outputs": [
    {
     "data": {
      "text/plain": [
       "['function', 'loggest']"
      ]
     },
     "execution_count": 70,
     "metadata": {},
     "output_type": "execute_result"
    }
   ],
   "source": [
    "filter_long_words(\"this function to return loggest word.\",6)"
   ]
  },
  {
   "cell_type": "markdown",
   "metadata": {},
   "source": [
    "# 2.2 Write a Python function which takes a character (i.e. a string of length 1) and returns True if it is\n",
    "a vowel, False otherwise.\n"
   ]
  },
  {
   "cell_type": "code",
   "execution_count": 77,
   "metadata": {},
   "outputs": [],
   "source": [
    "#Is_vowel number\n",
    "def is_vowel1(a):\n",
    "    s='AEIOU'\n",
    "    for i in range(len(s)):\n",
    "        if a == s[i] or a== s[i].lower():\n",
    "            return True\n",
    "            break\n",
    "    else :\n",
    "        return False"
   ]
  },
  {
   "cell_type": "code",
   "execution_count": 78,
   "metadata": {},
   "outputs": [
    {
     "data": {
      "text/plain": [
       "False"
      ]
     },
     "execution_count": 78,
     "metadata": {},
     "output_type": "execute_result"
    }
   ],
   "source": [
    "is_vowel1('d')"
   ]
  },
  {
   "cell_type": "code",
   "execution_count": 81,
   "metadata": {},
   "outputs": [
    {
     "data": {
      "text/plain": [
       "True"
      ]
     },
     "execution_count": 81,
     "metadata": {},
     "output_type": "execute_result"
    }
   ],
   "source": [
    "is_vowel1('A')"
   ]
  },
  {
   "cell_type": "code",
   "execution_count": null,
   "metadata": {},
   "outputs": [],
   "source": []
  }
 ],
 "metadata": {
  "kernelspec": {
   "display_name": "Python 3",
   "language": "python",
   "name": "python3"
  },
  "language_info": {
   "codemirror_mode": {
    "name": "ipython",
    "version": 3
   },
   "file_extension": ".py",
   "mimetype": "text/x-python",
   "name": "python",
   "nbconvert_exporter": "python",
   "pygments_lexer": "ipython3",
   "version": "3.7.6"
  }
 },
 "nbformat": 4,
 "nbformat_minor": 4
}
